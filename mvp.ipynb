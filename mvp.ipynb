{
 "cells": [
  {
   "cell_type": "markdown",
   "metadata": {},
   "source": [
    "# Abstract"
   ]
  },
  {
   "cell_type": "markdown",
   "metadata": {},
   "source": [
    "## Problem Statement\n",
    "- *Customers*: League of Legends players\n",
    "- *Problem*: Predict and interperate champion popularity\n",
    "- *Solution*: Linear regression model"
   ]
  },
  {
   "cell_type": "markdown",
   "metadata": {},
   "source": [
    "## Work Plan\n",
    "- *Data*: Web scrape champion statistics by date\n",
    "- *Model*: Linear regression\n",
    "- *Measure of Success*: TBD"
   ]
  },
  {
   "cell_type": "markdown",
   "metadata": {},
   "source": [
    "# Obtain the Data\n"
   ]
  },
  {
   "cell_type": "markdown",
   "metadata": {},
   "source": [
    "## Map the Data Pipeline\n",
    "\n",
    "*After completing this step, be sure to edit `references/data_dictionary` to include descriptions of where you obtained your data and what information it contains.*"
   ]
  },
  {
   "cell_type": "markdown",
   "metadata": {},
   "source": [
    "## Build the Pipeline Tools\n",
    "\n",
    "*Make sure these steps are reproducible by code. Put some thought into the directory structures and filepaths you are using to save your data, so it's easy to load files you need.*"
   ]
  },
  {
   "cell_type": "code",
   "execution_count": 1,
   "metadata": {},
   "outputs": [
    {
     "name": "stdout",
     "output_type": "stream",
     "text": [
      "Overwriting src/obtain.py\n"
     ]
    }
   ],
   "source": [
    "# %%writefile src/obtain.py\n",
    "\n",
    "# def basic_lr_model(y_idx):\n",
    "#     \"\"\"\n",
    "#     Reads cleaned data set from clean_data.csv and runs it as is\n",
    "#     through an OLS linear regression model using statsmodels.api\n",
    "    \n",
    "#     Input\n",
    "#     -----\n",
    "#     y_idx: column index of the clean data set that corresponds to the predicted variable\n",
    "    \n",
    "#     Output\n",
    "#     ------\n",
    "#     model : the OLS model computed by statsmodel.api.OLS()\n",
    "#     fit   : best fit of the OLS model to the data \n",
    "#     \"\"\"\n",
    "    \n",
    "#     # Import relevant modules\n",
    "#     import patsy\n",
    "#     import pandas as pd\n",
    "#     import statsmodels.api as sm\n",
    "    \n",
    "#     # Read in clean data\n",
    "#     datadir = '/Users/jeremy_lehner/Documents/GitHub/metis_project2/data/processed/clean_data.csv'\n",
    "#     df = pd.read_csv(datadir)\n",
    "    \n",
    "#     # Construct R formula style string\n",
    "#     colnames = list(df.columns)\n",
    "#     y_name = colnames[y_idx]\n",
    "#     colnames.remove(y_name)\n",
    "    \n",
    "#     R_formula = y_name + ' ~ ' + ' + '.join(colnames)\n",
    "    \n",
    "#     # Construct target vector y and feature matrix X\n",
    "#     y, X = patsy.dmatrices(R_formula, data = df, return_type = \"dataframe\")\n",
    "    \n",
    "#     # Construct OLS model\n",
    "#     model = sm.OLS(y, X)\n",
    "\n",
    "#     # Fit model to training set\n",
    "#     fit = model.fit()\n",
    "    \n",
    "#     # Return the model and the fit\n",
    "#     return model, fit\n",
    "\n",
    "# write functions that form a data pipeline, \n",
    "# then run this cell to save them in src/obtain.py"
   ]
  },
  {
   "cell_type": "markdown",
   "metadata": {},
   "source": [
    "## Run the Pipeline\n",
    "\n",
    "*Set this up so that you won't need to download datasets that you already have on your computer when you re-run the pipeline.*"
   ]
  },
  {
   "cell_type": "code",
   "execution_count": 6,
   "metadata": {
    "ExecuteTime": {
     "end_time": "2019-06-04T19:57:23.759275Z",
     "start_time": "2019-06-04T19:50:53.821423Z"
    }
   },
   "outputs": [
    {
     "ename": "NameError",
     "evalue": "name 'model' is not defined",
     "output_type": "error",
     "traceback": [
      "\u001b[0;31m---------------------------------------------------------------------------\u001b[0m",
      "\u001b[0;31mNameError\u001b[0m                                 Traceback (most recent call last)",
      "\u001b[0;32m<ipython-input-6-04cbf62d718d>\u001b[0m in \u001b[0;36m<module>\u001b[0;34m\u001b[0m\n\u001b[1;32m     12\u001b[0m \u001b[0;34m\u001b[0m\u001b[0m\n\u001b[1;32m     13\u001b[0m \u001b[0mrun_data_pipeline\u001b[0m\u001b[0;34m(\u001b[0m\u001b[0;34m)\u001b[0m\u001b[0;34m\u001b[0m\u001b[0;34m\u001b[0m\u001b[0m\n\u001b[0;32m---> 14\u001b[0;31m \u001b[0mmodel\u001b[0m\u001b[0;34m\u001b[0m\u001b[0;34m\u001b[0m\u001b[0m\n\u001b[0m",
      "\u001b[0;31mNameError\u001b[0m: name 'model' is not defined"
     ]
    }
   ],
   "source": [
    "# import data pipeline functions\n",
    "#pipelinedir = '/Users/jeremy_lehner/Documents/GitHub/metis_project2/src'\n",
    "#import sys\n",
    "#sys.path.insert(0, pipelinedir)\n",
    "#from obtain import basic_lr_model\n",
    "#import statsmodels.api as sm\n",
    "\n",
    "# def run_data_pipeline():\n",
    "#     # call data pipeline functions in order\n",
    "#     model, fit = basic_lr_model(5)\n",
    "#     pass\n",
    "\n",
    "#run_data_pipeline()"
   ]
  },
  {
   "cell_type": "markdown",
   "metadata": {},
   "source": [
    "# Scrub the Data\n"
   ]
  },
  {
   "cell_type": "markdown",
   "metadata": {},
   "source": [
    "## Load Data"
   ]
  },
  {
   "cell_type": "markdown",
   "metadata": {},
   "source": [
    "## Verify Data Integrity"
   ]
  },
  {
   "cell_type": "markdown",
   "metadata": {},
   "source": [
    "## Engineer Features"
   ]
  },
  {
   "cell_type": "markdown",
   "metadata": {},
   "source": [
    "*Before moving on to exploratory analysis, write down some notes about challenges encountered while working with this data that might be helpful for anyone else (including yourself) who may work through this later on.*"
   ]
  },
  {
   "cell_type": "markdown",
   "metadata": {},
   "source": [
    "# Explore the Data\n",
    "\n",
    "*Before you start exploring the data, write out your thought process about what you're looking for and what you expect to find. Take a minute to confirm that your plan actually makes sense.*\n",
    "\n",
    "*Calculate summary statistics and plot some charts to give you an idea what types of useful relationships might be in your dataset. Use these insights to go back and download additional data or engineer new features if necessary. Not now though... remember we're still just trying to finish the MVP!*"
   ]
  },
  {
   "cell_type": "markdown",
   "metadata": {},
   "source": [
    "## Inspect Raw Data"
   ]
  },
  {
   "cell_type": "markdown",
   "metadata": {},
   "source": [
    "## Inspect Features for Predictive Patterns\n",
    "\n",
    "*In a regression model, we are looking for clear relationships between our features and targets. Generate pairplots and look for features that have high correlations with the target variable.*\n",
    "\n",
    "*In a classification model, we are looking for features that separate the population into distinct distributions. Generate pairplots that are color-coded by your categories and look for features where the categories have distinct distributions.*"
   ]
  },
  {
   "cell_type": "markdown",
   "metadata": {},
   "source": [
    "- *What did you learn about your data?*\n",
    "- *Does it look like there are clear patterns and relationships among your features that will allow you to make good predictions?*\n",
    "- *Which features do you think will be most helpful?*"
   ]
  },
  {
   "cell_type": "markdown",
   "metadata": {},
   "source": [
    "# Model the Data\n",
    "\n",
    "*Describe the algorithms that you are considering. How do they work? Why are they good choices for this data and problem space?*\n",
    "\n",
    "*What nuances in the data will you have to be aware of in order to avoid introducing bias to your model? What steps will you need to take to prevent overfitting? What risks are there for data leakage?*"
   ]
  },
  {
   "cell_type": "code",
   "execution_count": 33,
   "metadata": {},
   "outputs": [
    {
     "data": {
      "text/html": [
       "<table class=\"simpletable\">\n",
       "<caption>OLS Regression Results</caption>\n",
       "<tr>\n",
       "  <th>Dep. Variable:</th>        <td>pick_rate</td>    <th>  R-squared:         </th> <td>   0.574</td>\n",
       "</tr>\n",
       "<tr>\n",
       "  <th>Model:</th>                   <td>OLS</td>       <th>  Adj. R-squared:    </th> <td>   0.566</td>\n",
       "</tr>\n",
       "<tr>\n",
       "  <th>Method:</th>             <td>Least Squares</td>  <th>  F-statistic:       </th> <td>   76.48</td>\n",
       "</tr>\n",
       "<tr>\n",
       "  <th>Date:</th>             <td>Wed, 17 Jul 2019</td> <th>  Prob (F-statistic):</th> <td>1.42e-50</td>\n",
       "</tr>\n",
       "<tr>\n",
       "  <th>Time:</th>                 <td>17:39:24</td>     <th>  Log-Likelihood:    </th> <td>  591.10</td>\n",
       "</tr>\n",
       "<tr>\n",
       "  <th>No. Observations:</th>      <td>   290</td>      <th>  AIC:               </th> <td>  -1170.</td>\n",
       "</tr>\n",
       "<tr>\n",
       "  <th>Df Residuals:</th>          <td>   284</td>      <th>  BIC:               </th> <td>  -1148.</td>\n",
       "</tr>\n",
       "<tr>\n",
       "  <th>Df Model:</th>              <td>     5</td>      <th>                     </th>     <td> </td>   \n",
       "</tr>\n",
       "<tr>\n",
       "  <th>Covariance Type:</th>      <td>nonrobust</td>    <th>                     </th>     <td> </td>   \n",
       "</tr>\n",
       "</table>\n",
       "<table class=\"simpletable\">\n",
       "<tr>\n",
       "         <td></td>           <th>coef</th>     <th>std err</th>      <th>t</th>      <th>P>|t|</th>  <th>[0.025</th>    <th>0.975]</th>  \n",
       "</tr>\n",
       "<tr>\n",
       "  <th>Intercept</th>      <td>   -0.1198</td> <td>    0.046</td> <td>   -2.614</td> <td> 0.009</td> <td>   -0.210</td> <td>   -0.030</td>\n",
       "</tr>\n",
       "<tr>\n",
       "  <th>days_old</th>       <td>-2.865e-05</td> <td>  3.1e-06</td> <td>   -9.244</td> <td> 0.000</td> <td>-3.48e-05</td> <td>-2.26e-05</td>\n",
       "</tr>\n",
       "<tr>\n",
       "  <th>num_last_patch</th> <td>-8.148e-05</td> <td>    0.000</td> <td>   -0.374</td> <td> 0.709</td> <td>   -0.001</td> <td>    0.000</td>\n",
       "</tr>\n",
       "<tr>\n",
       "  <th>num_skins</th>      <td>    0.0119</td> <td>    0.001</td> <td>   11.431</td> <td> 0.000</td> <td>    0.010</td> <td>    0.014</td>\n",
       "</tr>\n",
       "<tr>\n",
       "  <th>win_rate</th>       <td>    0.3486</td> <td>    0.094</td> <td>    3.719</td> <td> 0.000</td> <td>    0.164</td> <td>    0.533</td>\n",
       "</tr>\n",
       "<tr>\n",
       "  <th>ban_rate</th>       <td>    0.2550</td> <td>    0.019</td> <td>   13.362</td> <td> 0.000</td> <td>    0.217</td> <td>    0.293</td>\n",
       "</tr>\n",
       "</table>\n",
       "<table class=\"simpletable\">\n",
       "<tr>\n",
       "  <th>Omnibus:</th>       <td>51.052</td> <th>  Durbin-Watson:     </th> <td>   1.731</td>\n",
       "</tr>\n",
       "<tr>\n",
       "  <th>Prob(Omnibus):</th> <td> 0.000</td> <th>  Jarque-Bera (JB):  </th> <td>  84.880</td>\n",
       "</tr>\n",
       "<tr>\n",
       "  <th>Skew:</th>          <td> 0.998</td> <th>  Prob(JB):          </th> <td>3.70e-19</td>\n",
       "</tr>\n",
       "<tr>\n",
       "  <th>Kurtosis:</th>      <td> 4.743</td> <th>  Cond. No.          </th> <td>1.64e+05</td>\n",
       "</tr>\n",
       "</table><br/><br/>Warnings:<br/>[1] Standard Errors assume that the covariance matrix of the errors is correctly specified.<br/>[2] The condition number is large, 1.64e+05. This might indicate that there are<br/>strong multicollinearity or other numerical problems."
      ],
      "text/plain": [
       "<class 'statsmodels.iolib.summary.Summary'>\n",
       "\"\"\"\n",
       "                            OLS Regression Results                            \n",
       "==============================================================================\n",
       "Dep. Variable:              pick_rate   R-squared:                       0.574\n",
       "Model:                            OLS   Adj. R-squared:                  0.566\n",
       "Method:                 Least Squares   F-statistic:                     76.48\n",
       "Date:                Wed, 17 Jul 2019   Prob (F-statistic):           1.42e-50\n",
       "Time:                        17:39:24   Log-Likelihood:                 591.10\n",
       "No. Observations:                 290   AIC:                            -1170.\n",
       "Df Residuals:                     284   BIC:                            -1148.\n",
       "Df Model:                           5                                         \n",
       "Covariance Type:            nonrobust                                         \n",
       "==================================================================================\n",
       "                     coef    std err          t      P>|t|      [0.025      0.975]\n",
       "----------------------------------------------------------------------------------\n",
       "Intercept         -0.1198      0.046     -2.614      0.009      -0.210      -0.030\n",
       "days_old       -2.865e-05    3.1e-06     -9.244      0.000   -3.48e-05   -2.26e-05\n",
       "num_last_patch -8.148e-05      0.000     -0.374      0.709      -0.001       0.000\n",
       "num_skins          0.0119      0.001     11.431      0.000       0.010       0.014\n",
       "win_rate           0.3486      0.094      3.719      0.000       0.164       0.533\n",
       "ban_rate           0.2550      0.019     13.362      0.000       0.217       0.293\n",
       "==============================================================================\n",
       "Omnibus:                       51.052   Durbin-Watson:                   1.731\n",
       "Prob(Omnibus):                  0.000   Jarque-Bera (JB):               84.880\n",
       "Skew:                           0.998   Prob(JB):                     3.70e-19\n",
       "Kurtosis:                       4.743   Cond. No.                     1.64e+05\n",
       "==============================================================================\n",
       "\n",
       "Warnings:\n",
       "[1] Standard Errors assume that the covariance matrix of the errors is correctly specified.\n",
       "[2] The condition number is large, 1.64e+05. This might indicate that there are\n",
       "strong multicollinearity or other numerical problems.\n",
       "\"\"\""
      ]
     },
     "execution_count": 33,
     "metadata": {},
     "output_type": "execute_result"
    }
   ],
   "source": [
    "# Import relevant modules\n",
    "import patsy\n",
    "import pandas as pd\n",
    "import statsmodels.api as sm\n",
    "\n",
    "y_idx = 5\n",
    "\n",
    "# Read in clean data\n",
    "datadir = '/Users/jeremy_lehner/Documents/GitHub/metis_project2/data/processed/clean_data.csv'\n",
    "df = pd.read_csv(datadir)\n",
    "\n",
    "# Construct R formula style string\n",
    "colnames = list(df.columns)\n",
    "colnames.remove('champion')\n",
    "y_name = colnames[y_idx]\n",
    "colnames.remove(y_name)\n",
    "\n",
    "R_formula = y_name + ' ~ ' + ' + '.join(colnames)\n",
    "\n",
    "# Construct target vector y and feature matrix X\n",
    "y, X = patsy.dmatrices(R_formula, data = df, return_type = \"dataframe\")\n",
    "\n",
    "# Construct OLS model\n",
    "model = sm.OLS(y, X)\n",
    "\n",
    "# Fit model to training set\n",
    "fit = model.fit()\n",
    "\n",
    "# Return the model and the fit\n",
    "fit.summary()"
   ]
  },
  {
   "cell_type": "code",
   "execution_count": 34,
   "metadata": {},
   "outputs": [
    {
     "data": {
      "image/png": "[encoded data removed]",
      "text/plain": [
       "<Figure size 864x576 with 1 Axes>"
      ]
     },
     "metadata": {
      "needs_background": "light"
     },
     "output_type": "display_data"
    }
   ],
   "source": [
    "# Use statsmodels to plot the residuals vs the fitted values\n",
    "import matplotlib.pyplot as plt\n",
    "plt.figure(figsize=(12,8))\n",
    "plt.scatter(fit.predict(), fit.resid);"
   ]
  },
  {
   "cell_type": "markdown",
   "metadata": {},
   "source": [
    "## Train Test Split"
   ]
  },
  {
   "cell_type": "markdown",
   "metadata": {},
   "source": [
    "## Preprocessing"
   ]
  },
  {
   "cell_type": "markdown",
   "metadata": {},
   "source": [
    "### Label Encoding"
   ]
  },
  {
   "cell_type": "markdown",
   "metadata": {},
   "source": [
    "### Feature Scaling"
   ]
  },
  {
   "cell_type": "markdown",
   "metadata": {},
   "source": [
    "## Build and Train Model"
   ]
  },
  {
   "cell_type": "markdown",
   "metadata": {},
   "source": [
    "_Write down any thoughts you may have about working with these algorithms on this data. What looks to have been the most successful design choices? What pain points are you running into? What other ideas do you want to try out as you iterate on this pipeline?_"
   ]
  },
  {
   "cell_type": "markdown",
   "metadata": {},
   "source": [
    "## Predict and Score"
   ]
  },
  {
   "cell_type": "markdown",
   "metadata": {},
   "source": [
    "## Inspect Errors"
   ]
  },
  {
   "cell_type": "markdown",
   "metadata": {},
   "source": [
    "# iNterpret the Model\n",
    "\n",
    "_Write up the things you learned, and how well your model performed. Be sure address the model's strengths and weaknesses. What types of data does it handle well? What types of observations tend to give it a hard time? What future work would you or someone reading this might want to do, building on the lessons learned and tools developed in this project?_"
   ]
  },
  {
   "cell_type": "markdown",
   "metadata": {},
   "source": [
    "## Strengths and Weaknesses"
   ]
  },
  {
   "cell_type": "markdown",
   "metadata": {},
   "source": [
    "## What Else Can We Do?\n",
    "\n",
    "- *find more data*\n",
    "- *build new features*\n",
    "- *try new models*\n",
    "\n",
    "_(These are the obvious answers. The more interesting questions are **what** to try, **how** to do it, and **why** you think it might make a difference.)_"
   ]
  }
 ],
 "metadata": {
  "kernelspec": {
   "display_name": "metis",
   "language": "python",
   "name": "metis"
  },
  "language_info": {
   "codemirror_mode": {
    "name": "ipython",
    "version": 3
   },
   "file_extension": ".py",
   "mimetype": "text/x-python",
   "name": "python",
   "nbconvert_exporter": "python",
   "pygments_lexer": "ipython3",
   "version": "3.7.3"
  },
  "toc": {
   "base_numbering": 1,
   "nav_menu": {},
   "number_sections": true,
   "sideBar": true,
   "skip_h1_title": false,
   "title_cell": "Table of Contents",
   "title_sidebar": "Contents",
   "toc_cell": false,
   "toc_position": {
    "height": "calc(100% - 180px)",
    "left": "10px",
    "top": "150px",
    "width": "249.333px"
   },
   "toc_section_display": true,
   "toc_window_display": true
  }
 },
 "nbformat": 4,
 "nbformat_minor": 2
}

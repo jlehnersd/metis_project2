{
 "cells": [
  {
   "cell_type": "markdown",
   "metadata": {},
   "source": [
    "# Web scraping to obtain League of Legends data\n",
    "---\n",
    "---"
   ]
  },
  {
   "cell_type": "markdown",
   "metadata": {},
   "source": [
    "## Import relevant modules"
   ]
  },
  {
   "cell_type": "code",
   "execution_count": 1,
   "metadata": {},
   "outputs": [],
   "source": [
    "import sys\n",
    "import requests\n",
    "import time\n",
    "import random\n",
    "import datetime\n",
    "import pandas as pd\n",
    "from bs4 import BeautifulSoup\n",
    "from fake_useragent import UserAgent\n",
    "\n",
    "from selenium import webdriver\n",
    "from selenium.webdriver.common.keys import Keys\n",
    "import chromedriver_binary"
   ]
  },
  {
   "cell_type": "markdown",
   "metadata": {},
   "source": [
    "## Record date that data scraped\n",
    "#### Last collected 2019-07-16 (FULL MOON)"
   ]
  },
  {
   "cell_type": "code",
   "execution_count": 2,
   "metadata": {},
   "outputs": [],
   "source": [
    "# Get current date and time\n",
    "now = datetime.datetime.now()\n",
    "year_scraped  = str(now.year)\n",
    "month_scraped = str(now.month)\n",
    "day_scraped   = str(now.day)\n",
    "\n",
    "# Add leading zeroes to single-digit months and days\n",
    "if len(month_scraped) == 1:\n",
    "    month_scraped = '0' + month_scraped\n",
    "if len(day_scraped) == 1:\n",
    "    day_scraped = '0' + day_scraped\n",
    "\n",
    "# Construct date string\n",
    "date_data = year_scraped + '-' + month_scraped + '-' + day_scraped"
   ]
  },
  {
   "cell_type": "markdown",
   "metadata": {},
   "source": [
    "# Get champion names and release dates\n",
    "---"
   ]
  },
  {
   "cell_type": "code",
   "execution_count": 3,
   "metadata": {},
   "outputs": [
    {
     "data": {
      "text/html": [
       "<div>\n",
       "<style scoped>\n",
       "    .dataframe tbody tr th:only-of-type {\n",
       "        vertical-align: middle;\n",
       "    }\n",
       "\n",
       "    .dataframe tbody tr th {\n",
       "        vertical-align: top;\n",
       "    }\n",
       "\n",
       "    .dataframe thead th {\n",
       "        text-align: right;\n",
       "    }\n",
       "</style>\n",
       "<table border=\"1\" class=\"dataframe\">\n",
       "  <thead>\n",
       "    <tr style=\"text-align: right;\">\n",
       "      <th></th>\n",
       "      <th>champion</th>\n",
       "      <th>release_date</th>\n",
       "    </tr>\n",
       "  </thead>\n",
       "  <tbody>\n",
       "    <tr>\n",
       "      <th>0</th>\n",
       "      <td>Aatrox the Darkin Blade</td>\n",
       "      <td>2013-06-13</td>\n",
       "    </tr>\n",
       "    <tr>\n",
       "      <th>1</th>\n",
       "      <td>Ahri the Nine-Tailed Fox</td>\n",
       "      <td>2011-12-14</td>\n",
       "    </tr>\n",
       "    <tr>\n",
       "      <th>2</th>\n",
       "      <td>Akali the Rogue Assassin</td>\n",
       "      <td>2010-05-11</td>\n",
       "    </tr>\n",
       "    <tr>\n",
       "      <th>3</th>\n",
       "      <td>Alistar the Minotaur</td>\n",
       "      <td>2009-02-21</td>\n",
       "    </tr>\n",
       "    <tr>\n",
       "      <th>4</th>\n",
       "      <td>Amumu the Sad Mummy</td>\n",
       "      <td>2009-06-26</td>\n",
       "    </tr>\n",
       "  </tbody>\n",
       "</table>\n",
       "</div>"
      ],
      "text/plain": [
       "                   champion release_date\n",
       "0   Aatrox the Darkin Blade   2013-06-13\n",
       "1  Ahri the Nine-Tailed Fox   2011-12-14\n",
       "2  Akali the Rogue Assassin   2010-05-11\n",
       "3      Alistar the Minotaur   2009-02-21\n",
       "4       Amumu the Sad Mummy   2009-06-26"
      ]
     },
     "execution_count": 3,
     "metadata": {},
     "output_type": "execute_result"
    }
   ],
   "source": [
    "champions_df = pd.read_html('https://leagueoflegends.fandom.com/wiki/List_of_champions')[1]\n",
    "champions_df = champions_df[['Champion', 'Release Date']]\n",
    "champions_df.columns = ['champion', 'release_date']\n",
    "champions_df.head()"
   ]
  },
  {
   "cell_type": "markdown",
   "metadata": {},
   "source": [
    "### Get rid of champion titles"
   ]
  },
  {
   "cell_type": "code",
   "execution_count": 4,
   "metadata": {
    "scrolled": false
   },
   "outputs": [
    {
     "name": "stdout",
     "output_type": "stream",
     "text": [
      "['Aatrox', 'Ahri', 'Akali', 'Alistar', 'Amumu', 'Anivia', 'Annie', 'Ashe', 'Aurelion Sol', 'Azir']\n"
     ]
    }
   ],
   "source": [
    "names = list(champions_df['champion'])\n",
    "names = [s.split(',')[0] for s in names]\n",
    "names = [s.split('\\xa0the')[0] for s in names]\n",
    "print(names[0:10])"
   ]
  },
  {
   "cell_type": "markdown",
   "metadata": {},
   "source": [
    "# Get number of skins\n",
    "---"
   ]
  },
  {
   "cell_type": "code",
   "execution_count": 5,
   "metadata": {},
   "outputs": [
    {
     "name": "stdout",
     "output_type": "stream",
     "text": [
      "[6, 11, 12, 13, 11, 9, 12, 11, 3, 5]\n"
     ]
    }
   ],
   "source": [
    "# Set up selenium web driver\n",
    "driver = webdriver.Chrome()\n",
    "\n",
    "# Get number of skins\n",
    "num_skins = []\n",
    "for name in names:\n",
    "    \n",
    "    name = name.replace(' ', '_')\n",
    "    skins_url = f'https://leagueoflegends.fandom.com/wiki/{name}/Skins'\n",
    "    driver.get(skins_url)\n",
    "    time.sleep(1)\n",
    "    \n",
    "    soup = BeautifulSoup(driver.page_source, 'html.parser')\n",
    "    \n",
    "    num_skins.append(len(soup.find_all('div', {'style':'display:inline-block; margin:5px; width:342px'})))\n",
    "\n",
    "driver.close()\n",
    "print(num_skins[:10])"
   ]
  },
  {
   "cell_type": "code",
   "execution_count": 6,
   "metadata": {},
   "outputs": [
    {
     "name": "stdout",
     "output_type": "stream",
     "text": [
      "[5, 10, 11, 12, 10, 8, 11, 10, 2, 4]\n"
     ]
    }
   ],
   "source": [
    "# Subtract 1 from number of skins for each champion because of base skin\n",
    "for idx, skins in enumerate(num_skins):\n",
    "    num_skins[idx] = skins - 1\n",
    "print(num_skins[:10])"
   ]
  },
  {
   "cell_type": "markdown",
   "metadata": {},
   "source": [
    "# Get pick, win, and ban rates\n",
    "---"
   ]
  },
  {
   "cell_type": "markdown",
   "metadata": {},
   "source": [
    "### Set up selenium webdriver"
   ]
  },
  {
   "cell_type": "code",
   "execution_count": 7,
   "metadata": {},
   "outputs": [],
   "source": [
    "champstats_url = 'https://na.op.gg/statistics/champion/'\n",
    "\n",
    "driver = webdriver.Chrome()\n",
    "driver.get(champstats_url)"
   ]
  },
  {
   "cell_type": "markdown",
   "metadata": {},
   "source": [
    "### Select stats for current day, ranked queue, and for all ranks"
   ]
  },
  {
   "cell_type": "code",
   "execution_count": 8,
   "metadata": {},
   "outputs": [],
   "source": [
    "# Ranked queue and all ranks are already default, but today isn't\n",
    "today_button = driver.find_element_by_xpath('//*[@id=\"recent_today\"]/span/span')\n",
    "today_button.click()"
   ]
  },
  {
   "cell_type": "markdown",
   "metadata": {},
   "source": [
    "### Get win rate data"
   ]
  },
  {
   "cell_type": "code",
   "execution_count": 9,
   "metadata": {},
   "outputs": [],
   "source": [
    "winrate_button = driver.find_element_by_xpath('//*[@id=\"rate_win\"]/span/span')\n",
    "winrate_button.click()"
   ]
  },
  {
   "cell_type": "code",
   "execution_count": 10,
   "metadata": {},
   "outputs": [
    {
     "data": {
      "text/html": [
       "<div>\n",
       "<style scoped>\n",
       "    .dataframe tbody tr th:only-of-type {\n",
       "        vertical-align: middle;\n",
       "    }\n",
       "\n",
       "    .dataframe tbody tr th {\n",
       "        vertical-align: top;\n",
       "    }\n",
       "\n",
       "    .dataframe thead th {\n",
       "        text-align: right;\n",
       "    }\n",
       "</style>\n",
       "<table border=\"1\" class=\"dataframe\">\n",
       "  <thead>\n",
       "    <tr style=\"text-align: right;\">\n",
       "      <th></th>\n",
       "      <th>champion</th>\n",
       "      <th>winrate</th>\n",
       "    </tr>\n",
       "  </thead>\n",
       "  <tbody>\n",
       "    <tr>\n",
       "      <th>128</th>\n",
       "      <td>Aatrox</td>\n",
       "      <td>47.38%</td>\n",
       "    </tr>\n",
       "    <tr>\n",
       "      <th>11</th>\n",
       "      <td>Ahri</td>\n",
       "      <td>52.75%</td>\n",
       "    </tr>\n",
       "    <tr>\n",
       "      <th>144</th>\n",
       "      <td>Akali</td>\n",
       "      <td>42.30%</td>\n",
       "    </tr>\n",
       "    <tr>\n",
       "      <th>126</th>\n",
       "      <td>Alistar</td>\n",
       "      <td>47.45%</td>\n",
       "    </tr>\n",
       "    <tr>\n",
       "      <th>15</th>\n",
       "      <td>Amumu</td>\n",
       "      <td>52.60%</td>\n",
       "    </tr>\n",
       "  </tbody>\n",
       "</table>\n",
       "</div>"
      ],
      "text/plain": [
       "    champion winrate\n",
       "128   Aatrox  47.38%\n",
       "11      Ahri  52.75%\n",
       "144    Akali  42.30%\n",
       "126  Alistar  47.45%\n",
       "15     Amumu  52.60%"
      ]
     },
     "execution_count": 10,
     "metadata": {},
     "output_type": "execute_result"
    }
   ],
   "source": [
    "winrate_df = pd.read_html(driver.page_source)[1]\n",
    "winrate_df = winrate_df[['Champion.1', 'Win rate']]\n",
    "winrate_df.columns = ['champion', 'winrate']\n",
    "winrate_df.sort_values(by = 'champion', inplace = True)\n",
    "winrate_df.head()"
   ]
  },
  {
   "cell_type": "markdown",
   "metadata": {},
   "source": [
    "### Get ban rate data"
   ]
  },
  {
   "cell_type": "code",
   "execution_count": 11,
   "metadata": {},
   "outputs": [],
   "source": [
    "banrate_button = driver.find_element_by_xpath('//*[@id=\"rate_ban\"]/span/span')\n",
    "banrate_button.click()"
   ]
  },
  {
   "cell_type": "code",
   "execution_count": 12,
   "metadata": {},
   "outputs": [
    {
     "data": {
      "text/html": [
       "<div>\n",
       "<style scoped>\n",
       "    .dataframe tbody tr th:only-of-type {\n",
       "        vertical-align: middle;\n",
       "    }\n",
       "\n",
       "    .dataframe tbody tr th {\n",
       "        vertical-align: top;\n",
       "    }\n",
       "\n",
       "    .dataframe thead th {\n",
       "        text-align: right;\n",
       "    }\n",
       "</style>\n",
       "<table border=\"1\" class=\"dataframe\">\n",
       "  <thead>\n",
       "    <tr style=\"text-align: right;\">\n",
       "      <th></th>\n",
       "      <th>champion</th>\n",
       "      <th>banrate</th>\n",
       "    </tr>\n",
       "  </thead>\n",
       "  <tbody>\n",
       "    <tr>\n",
       "      <th>10</th>\n",
       "      <td>Aatrox</td>\n",
       "      <td>23.69%</td>\n",
       "    </tr>\n",
       "    <tr>\n",
       "      <th>37</th>\n",
       "      <td>Ahri</td>\n",
       "      <td>7.55%</td>\n",
       "    </tr>\n",
       "    <tr>\n",
       "      <th>31</th>\n",
       "      <td>Akali</td>\n",
       "      <td>8.75%</td>\n",
       "    </tr>\n",
       "    <tr>\n",
       "      <th>95</th>\n",
       "      <td>Alistar</td>\n",
       "      <td>1.08%</td>\n",
       "    </tr>\n",
       "    <tr>\n",
       "      <th>63</th>\n",
       "      <td>Amumu</td>\n",
       "      <td>2.57%</td>\n",
       "    </tr>\n",
       "  </tbody>\n",
       "</table>\n",
       "</div>"
      ],
      "text/plain": [
       "   champion banrate\n",
       "10   Aatrox  23.69%\n",
       "37     Ahri   7.55%\n",
       "31    Akali   8.75%\n",
       "95  Alistar   1.08%\n",
       "63    Amumu   2.57%"
      ]
     },
     "execution_count": 12,
     "metadata": {},
     "output_type": "execute_result"
    }
   ],
   "source": [
    "banrate_df = pd.read_html(driver.page_source)[1]\n",
    "banrate_df = banrate_df[['Champion.1', 'Ban ratio per game']]\n",
    "banrate_df.columns = ['champion', 'banrate']\n",
    "banrate_df.sort_values(by = 'champion', inplace = True)\n",
    "banrate_df.head()"
   ]
  },
  {
   "cell_type": "markdown",
   "metadata": {},
   "source": [
    "### Get pick rate data"
   ]
  },
  {
   "cell_type": "code",
   "execution_count": 13,
   "metadata": {},
   "outputs": [],
   "source": [
    "pickrate_button = driver.find_element_by_xpath('//*[@id=\"rate_pick\"]/span/span')\n",
    "pickrate_button.click()"
   ]
  },
  {
   "cell_type": "code",
   "execution_count": 14,
   "metadata": {},
   "outputs": [
    {
     "data": {
      "text/html": [
       "<div>\n",
       "<style scoped>\n",
       "    .dataframe tbody tr th:only-of-type {\n",
       "        vertical-align: middle;\n",
       "    }\n",
       "\n",
       "    .dataframe tbody tr th {\n",
       "        vertical-align: top;\n",
       "    }\n",
       "\n",
       "    .dataframe thead th {\n",
       "        text-align: right;\n",
       "    }\n",
       "</style>\n",
       "<table border=\"1\" class=\"dataframe\">\n",
       "  <thead>\n",
       "    <tr style=\"text-align: right;\">\n",
       "      <th></th>\n",
       "      <th>champion</th>\n",
       "      <th>pickrate</th>\n",
       "    </tr>\n",
       "  </thead>\n",
       "  <tbody>\n",
       "    <tr>\n",
       "      <th>25</th>\n",
       "      <td>Aatrox</td>\n",
       "      <td>10.64%</td>\n",
       "    </tr>\n",
       "    <tr>\n",
       "      <th>21</th>\n",
       "      <td>Ahri</td>\n",
       "      <td>11.22%</td>\n",
       "    </tr>\n",
       "    <tr>\n",
       "      <th>44</th>\n",
       "      <td>Akali</td>\n",
       "      <td>8.29%</td>\n",
       "    </tr>\n",
       "    <tr>\n",
       "      <th>104</th>\n",
       "      <td>Alistar</td>\n",
       "      <td>3.62%</td>\n",
       "    </tr>\n",
       "    <tr>\n",
       "      <th>65</th>\n",
       "      <td>Amumu</td>\n",
       "      <td>6.32%</td>\n",
       "    </tr>\n",
       "  </tbody>\n",
       "</table>\n",
       "</div>"
      ],
      "text/plain": [
       "    champion pickrate\n",
       "25    Aatrox   10.64%\n",
       "21      Ahri   11.22%\n",
       "44     Akali    8.29%\n",
       "104  Alistar    3.62%\n",
       "65     Amumu    6.32%"
      ]
     },
     "execution_count": 14,
     "metadata": {},
     "output_type": "execute_result"
    }
   ],
   "source": [
    "pickrate_df = pd.read_html(driver.page_source)[1]\n",
    "pickrate_df = pickrate_df[['Champion.1', 'Pick ratio per game']]\n",
    "pickrate_df.columns = ['champion', 'pickrate']\n",
    "pickrate_df.sort_values(by = 'champion', inplace = True)\n",
    "pickrate_df.head()"
   ]
  },
  {
   "cell_type": "code",
   "execution_count": 15,
   "metadata": {},
   "outputs": [],
   "source": [
    "driver.close()"
   ]
  },
  {
   "cell_type": "markdown",
   "metadata": {},
   "source": [
    "# Get patch when champion was last changed"
   ]
  },
  {
   "cell_type": "code",
   "execution_count": 16,
   "metadata": {},
   "outputs": [
    {
     "name": "stdout",
     "output_type": "stream",
     "text": [
      "['9.12', '8.20', '9.11', '8.21', '9.12', '8.24', '8.17', '9.12', ' 9.2', ' 9.7', '8.17', ' 9.9', '9.10', '8.18', '9.12', ' 9.8', ' 9.8', ' 9.7', '9.13', ' 9.9']\n"
     ]
    }
   ],
   "source": [
    "# Set up selenium web driver\n",
    "driver = webdriver.Chrome()\n",
    "\n",
    "# Get patch when champion was last changed\n",
    "last_patch = []\n",
    "for name in names:\n",
    "    \n",
    "    name = name.replace(' ', '_')\n",
    "    champ_url = f'https://lol.gamepedia.com/{name}#Patch_History'\n",
    "    driver.get(champ_url)\n",
    "    #time.sleep(1)\n",
    "    \n",
    "    soup = BeautifulSoup(driver.page_source, 'html.parser')\n",
    "    \n",
    "    history = [link for link in soup.find_all('a')\n",
    "                 if '>v1.' in str(link) or 'Patch 1.' in str(link)\n",
    "                 or '>v2.' in str(link) or 'Patch 2.' in str(link)\n",
    "                 or '>v3.' in str(link) or 'Patch 3.' in str(link)\n",
    "                 or '>v4.' in str(link) or 'Patch 4.' in str(link)\n",
    "                 or '>v5.' in str(link) or 'Patch 5.' in str(link)\n",
    "                 or '>v6.' in str(link) or 'Patch 6.' in str(link)\n",
    "                 or '>v7.' in str(link) or 'Patch 7.' in str(link)\n",
    "                 or '>v8.' in str(link) or 'Patch 8.' in str(link)\n",
    "                 or '>v9.' in str(link) or 'Patch 9.' in str(link)]\n",
    "\n",
    "    most_recent = history[0]\n",
    "    most_recent = str(most_recent)[-8:-4]\n",
    "    last_patch.append(most_recent)\n",
    "    \n",
    "driver.close()\n",
    "print(last_patch[0:20])"
   ]
  },
  {
   "cell_type": "code",
   "execution_count": 17,
   "metadata": {},
   "outputs": [
    {
     "name": "stdout",
     "output_type": "stream",
     "text": [
      "['9.12', '8.20', '9.11', '8.21', '9.12', '8.24', '8.17', '9.12', '9.2', '9.7', '8.17', '9.9', '9.10', '8.18', '9.12', '9.8', '9.8', '9.7', '9.13', '9.9']\n"
     ]
    }
   ],
   "source": [
    "for idx, patch in enumerate(last_patch):\n",
    "    last_patch[idx] = patch.replace('v','')\n",
    "for idx, patch in enumerate(last_patch):\n",
    "    last_patch[idx] = patch.replace(' ', '')\n",
    "print(last_patch[:20])"
   ]
  },
  {
   "cell_type": "markdown",
   "metadata": {},
   "source": [
    "# Construct fully scraped data frame\n",
    "---"
   ]
  },
  {
   "cell_type": "code",
   "execution_count": 18,
   "metadata": {},
   "outputs": [],
   "source": [
    "# Create lists from columns of scraped data frames\n",
    "release_date = list(champions_df['release_date'])\n",
    "win_rate = list(winrate_df['winrate'])\n",
    "ban_rate = list(banrate_df['banrate'])\n",
    "pick_rate = list(pickrate_df['pickrate'])"
   ]
  },
  {
   "cell_type": "code",
   "execution_count": 19,
   "metadata": {},
   "outputs": [],
   "source": [
    "# Create full data frame\n",
    "data = list(zip(names, release_date, last_patch, num_skins, win_rate, ban_rate, pick_rate))\n",
    "colnames = ['champion', 'release_date', 'last_patch', 'num_skins', 'win_rate', 'ban_rate', 'pick_rate']\n",
    "scraped_df = pd.DataFrame(data, columns = colnames) "
   ]
  },
  {
   "cell_type": "code",
   "execution_count": 20,
   "metadata": {},
   "outputs": [
    {
     "data": {
      "text/html": [
       "<div>\n",
       "<style scoped>\n",
       "    .dataframe tbody tr th:only-of-type {\n",
       "        vertical-align: middle;\n",
       "    }\n",
       "\n",
       "    .dataframe tbody tr th {\n",
       "        vertical-align: top;\n",
       "    }\n",
       "\n",
       "    .dataframe thead th {\n",
       "        text-align: right;\n",
       "    }\n",
       "</style>\n",
       "<table border=\"1\" class=\"dataframe\">\n",
       "  <thead>\n",
       "    <tr style=\"text-align: right;\">\n",
       "      <th></th>\n",
       "      <th>champion</th>\n",
       "      <th>release_date</th>\n",
       "      <th>last_patch</th>\n",
       "      <th>num_skins</th>\n",
       "      <th>win_rate</th>\n",
       "      <th>ban_rate</th>\n",
       "      <th>pick_rate</th>\n",
       "      <th>date_data</th>\n",
       "    </tr>\n",
       "  </thead>\n",
       "  <tbody>\n",
       "    <tr>\n",
       "      <th>0</th>\n",
       "      <td>Aatrox</td>\n",
       "      <td>2013-06-13</td>\n",
       "      <td>9.12</td>\n",
       "      <td>5</td>\n",
       "      <td>47.38%</td>\n",
       "      <td>23.69%</td>\n",
       "      <td>10.64%</td>\n",
       "      <td>2019-07-17</td>\n",
       "    </tr>\n",
       "    <tr>\n",
       "      <th>1</th>\n",
       "      <td>Ahri</td>\n",
       "      <td>2011-12-14</td>\n",
       "      <td>8.20</td>\n",
       "      <td>10</td>\n",
       "      <td>52.75%</td>\n",
       "      <td>7.55%</td>\n",
       "      <td>11.22%</td>\n",
       "      <td>2019-07-17</td>\n",
       "    </tr>\n",
       "    <tr>\n",
       "      <th>2</th>\n",
       "      <td>Akali</td>\n",
       "      <td>2010-05-11</td>\n",
       "      <td>9.11</td>\n",
       "      <td>11</td>\n",
       "      <td>42.30%</td>\n",
       "      <td>8.75%</td>\n",
       "      <td>8.29%</td>\n",
       "      <td>2019-07-17</td>\n",
       "    </tr>\n",
       "    <tr>\n",
       "      <th>3</th>\n",
       "      <td>Alistar</td>\n",
       "      <td>2009-02-21</td>\n",
       "      <td>8.21</td>\n",
       "      <td>12</td>\n",
       "      <td>47.45%</td>\n",
       "      <td>1.08%</td>\n",
       "      <td>3.62%</td>\n",
       "      <td>2019-07-17</td>\n",
       "    </tr>\n",
       "    <tr>\n",
       "      <th>4</th>\n",
       "      <td>Amumu</td>\n",
       "      <td>2009-06-26</td>\n",
       "      <td>9.12</td>\n",
       "      <td>10</td>\n",
       "      <td>52.60%</td>\n",
       "      <td>2.57%</td>\n",
       "      <td>6.32%</td>\n",
       "      <td>2019-07-17</td>\n",
       "    </tr>\n",
       "    <tr>\n",
       "      <th>5</th>\n",
       "      <td>Anivia</td>\n",
       "      <td>2009-07-10</td>\n",
       "      <td>8.24</td>\n",
       "      <td>8</td>\n",
       "      <td>50.65%</td>\n",
       "      <td>1.34%</td>\n",
       "      <td>3.31%</td>\n",
       "      <td>2019-07-17</td>\n",
       "    </tr>\n",
       "    <tr>\n",
       "      <th>6</th>\n",
       "      <td>Annie</td>\n",
       "      <td>2009-02-21</td>\n",
       "      <td>8.17</td>\n",
       "      <td>11</td>\n",
       "      <td>51.05%</td>\n",
       "      <td>1.41%</td>\n",
       "      <td>3.46%</td>\n",
       "      <td>2019-07-17</td>\n",
       "    </tr>\n",
       "    <tr>\n",
       "      <th>7</th>\n",
       "      <td>Ashe</td>\n",
       "      <td>2009-02-21</td>\n",
       "      <td>9.12</td>\n",
       "      <td>10</td>\n",
       "      <td>51.78%</td>\n",
       "      <td>2.17%</td>\n",
       "      <td>15.13%</td>\n",
       "      <td>2019-07-17</td>\n",
       "    </tr>\n",
       "    <tr>\n",
       "      <th>8</th>\n",
       "      <td>Aurelion Sol</td>\n",
       "      <td>2016-03-24</td>\n",
       "      <td>9.2</td>\n",
       "      <td>2</td>\n",
       "      <td>50.95%</td>\n",
       "      <td>0.30%</td>\n",
       "      <td>0.93%</td>\n",
       "      <td>2019-07-17</td>\n",
       "    </tr>\n",
       "    <tr>\n",
       "      <th>9</th>\n",
       "      <td>Azir</td>\n",
       "      <td>2014-09-16</td>\n",
       "      <td>9.7</td>\n",
       "      <td>4</td>\n",
       "      <td>46.96%</td>\n",
       "      <td>0.80%</td>\n",
       "      <td>3.52%</td>\n",
       "      <td>2019-07-17</td>\n",
       "    </tr>\n",
       "    <tr>\n",
       "      <th>10</th>\n",
       "      <td>Bard</td>\n",
       "      <td>2015-03-12</td>\n",
       "      <td>8.17</td>\n",
       "      <td>3</td>\n",
       "      <td>51.08%</td>\n",
       "      <td>0.36%</td>\n",
       "      <td>3.74%</td>\n",
       "      <td>2019-07-17</td>\n",
       "    </tr>\n",
       "    <tr>\n",
       "      <th>11</th>\n",
       "      <td>Blitzcrank</td>\n",
       "      <td>2009-09-02</td>\n",
       "      <td>9.9</td>\n",
       "      <td>11</td>\n",
       "      <td>50.89%</td>\n",
       "      <td>13.84%</td>\n",
       "      <td>8.00%</td>\n",
       "      <td>2019-07-17</td>\n",
       "    </tr>\n",
       "    <tr>\n",
       "      <th>12</th>\n",
       "      <td>Brand</td>\n",
       "      <td>2011-04-12</td>\n",
       "      <td>9.10</td>\n",
       "      <td>7</td>\n",
       "      <td>51.95%</td>\n",
       "      <td>10.01%</td>\n",
       "      <td>8.34%</td>\n",
       "      <td>2019-07-17</td>\n",
       "    </tr>\n",
       "    <tr>\n",
       "      <th>13</th>\n",
       "      <td>Braum</td>\n",
       "      <td>2014-05-12</td>\n",
       "      <td>8.18</td>\n",
       "      <td>5</td>\n",
       "      <td>48.21%</td>\n",
       "      <td>0.93%</td>\n",
       "      <td>3.08%</td>\n",
       "      <td>2019-07-17</td>\n",
       "    </tr>\n",
       "    <tr>\n",
       "      <th>14</th>\n",
       "      <td>Caitlyn</td>\n",
       "      <td>2011-01-04</td>\n",
       "      <td>9.12</td>\n",
       "      <td>11</td>\n",
       "      <td>50.43%</td>\n",
       "      <td>11.97%</td>\n",
       "      <td>22.33%</td>\n",
       "      <td>2019-07-17</td>\n",
       "    </tr>\n",
       "    <tr>\n",
       "      <th>15</th>\n",
       "      <td>Camille</td>\n",
       "      <td>2016-12-07</td>\n",
       "      <td>9.8</td>\n",
       "      <td>3</td>\n",
       "      <td>49.38%</td>\n",
       "      <td>1.02%</td>\n",
       "      <td>3.86%</td>\n",
       "      <td>2019-07-17</td>\n",
       "    </tr>\n",
       "    <tr>\n",
       "      <th>16</th>\n",
       "      <td>Cassiopeia</td>\n",
       "      <td>2010-12-14</td>\n",
       "      <td>9.8</td>\n",
       "      <td>5</td>\n",
       "      <td>48.01%</td>\n",
       "      <td>0.57%</td>\n",
       "      <td>1.86%</td>\n",
       "      <td>2019-07-17</td>\n",
       "    </tr>\n",
       "    <tr>\n",
       "      <th>17</th>\n",
       "      <td>Cho'Gath</td>\n",
       "      <td>2009-06-26</td>\n",
       "      <td>9.7</td>\n",
       "      <td>7</td>\n",
       "      <td>51.37%</td>\n",
       "      <td>0.99%</td>\n",
       "      <td>4.64%</td>\n",
       "      <td>2019-07-17</td>\n",
       "    </tr>\n",
       "    <tr>\n",
       "      <th>18</th>\n",
       "      <td>Corki</td>\n",
       "      <td>2009-09-19</td>\n",
       "      <td>9.13</td>\n",
       "      <td>9</td>\n",
       "      <td>49.95%</td>\n",
       "      <td>0.48%</td>\n",
       "      <td>3.59%</td>\n",
       "      <td>2019-07-17</td>\n",
       "    </tr>\n",
       "    <tr>\n",
       "      <th>19</th>\n",
       "      <td>Darius</td>\n",
       "      <td>2012-05-23</td>\n",
       "      <td>9.9</td>\n",
       "      <td>7</td>\n",
       "      <td>51.08%</td>\n",
       "      <td>32.45%</td>\n",
       "      <td>12.56%</td>\n",
       "      <td>2019-07-17</td>\n",
       "    </tr>\n",
       "  </tbody>\n",
       "</table>\n",
       "</div>"
      ],
      "text/plain": [
       "        champion release_date last_patch  num_skins win_rate ban_rate  \\\n",
       "0         Aatrox   2013-06-13       9.12          5   47.38%   23.69%   \n",
       "1           Ahri   2011-12-14       8.20         10   52.75%    7.55%   \n",
       "2          Akali   2010-05-11       9.11         11   42.30%    8.75%   \n",
       "3        Alistar   2009-02-21       8.21         12   47.45%    1.08%   \n",
       "4          Amumu   2009-06-26       9.12         10   52.60%    2.57%   \n",
       "5         Anivia   2009-07-10       8.24          8   50.65%    1.34%   \n",
       "6          Annie   2009-02-21       8.17         11   51.05%    1.41%   \n",
       "7           Ashe   2009-02-21       9.12         10   51.78%    2.17%   \n",
       "8   Aurelion Sol   2016-03-24        9.2          2   50.95%    0.30%   \n",
       "9           Azir   2014-09-16        9.7          4   46.96%    0.80%   \n",
       "10          Bard   2015-03-12       8.17          3   51.08%    0.36%   \n",
       "11    Blitzcrank   2009-09-02        9.9         11   50.89%   13.84%   \n",
       "12         Brand   2011-04-12       9.10          7   51.95%   10.01%   \n",
       "13         Braum   2014-05-12       8.18          5   48.21%    0.93%   \n",
       "14       Caitlyn   2011-01-04       9.12         11   50.43%   11.97%   \n",
       "15       Camille   2016-12-07        9.8          3   49.38%    1.02%   \n",
       "16    Cassiopeia   2010-12-14        9.8          5   48.01%    0.57%   \n",
       "17      Cho'Gath   2009-06-26        9.7          7   51.37%    0.99%   \n",
       "18         Corki   2009-09-19       9.13          9   49.95%    0.48%   \n",
       "19        Darius   2012-05-23        9.9          7   51.08%   32.45%   \n",
       "\n",
       "   pick_rate   date_data  \n",
       "0     10.64%  2019-07-17  \n",
       "1     11.22%  2019-07-17  \n",
       "2      8.29%  2019-07-17  \n",
       "3      3.62%  2019-07-17  \n",
       "4      6.32%  2019-07-17  \n",
       "5      3.31%  2019-07-17  \n",
       "6      3.46%  2019-07-17  \n",
       "7     15.13%  2019-07-17  \n",
       "8      0.93%  2019-07-17  \n",
       "9      3.52%  2019-07-17  \n",
       "10     3.74%  2019-07-17  \n",
       "11     8.00%  2019-07-17  \n",
       "12     8.34%  2019-07-17  \n",
       "13     3.08%  2019-07-17  \n",
       "14    22.33%  2019-07-17  \n",
       "15     3.86%  2019-07-17  \n",
       "16     1.86%  2019-07-17  \n",
       "17     4.64%  2019-07-17  \n",
       "18     3.59%  2019-07-17  \n",
       "19    12.56%  2019-07-17  "
      ]
     },
     "execution_count": 20,
     "metadata": {},
     "output_type": "execute_result"
    }
   ],
   "source": [
    "scraped_df['date_data'] = date_data\n",
    "scraped_df.head(20)"
   ]
  },
  {
   "cell_type": "markdown",
   "metadata": {},
   "source": [
    "### Write data frame to csv file"
   ]
  },
  {
   "cell_type": "code",
   "execution_count": 21,
   "metadata": {},
   "outputs": [],
   "source": [
    "filename = f'scraped_data_{date_data}.csv'\n",
    "filedir = f'/Users/jeremy_lehner/Documents/GitHub/metis_project2/data/raw/{filename}'\n",
    "\n",
    "scraped_df.to_csv (filedir, index = None, header = True)"
   ]
  }
 ],
 "metadata": {
  "kernelspec": {
   "display_name": "Python 3",
   "language": "python",
   "name": "python3"
  },
  "language_info": {
   "codemirror_mode": {
    "name": "ipython",
    "version": 3
   },
   "file_extension": ".py",
   "mimetype": "text/x-python",
   "name": "python",
   "nbconvert_exporter": "python",
   "pygments_lexer": "ipython3",
   "version": "3.7.3"
  }
 },
 "nbformat": 4,
 "nbformat_minor": 2
}

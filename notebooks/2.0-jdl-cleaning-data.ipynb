{
 "cells": [
  {
   "cell_type": "markdown",
   "metadata": {},
   "source": [
    "# Cleaning League of Legends data for analysis\n",
    "---\n",
    "---"
   ]
  },
  {
   "cell_type": "markdown",
   "metadata": {},
   "source": [
    "## Import relevant modules"
   ]
  },
  {
   "cell_type": "code",
   "execution_count": 100,
   "metadata": {},
   "outputs": [],
   "source": [
    "import os\n",
    "import pandas as pd"
   ]
  },
  {
   "cell_type": "markdown",
   "metadata": {},
   "source": [
    "## Read in the webscraped data"
   ]
  },
  {
   "cell_type": "code",
   "execution_count": 107,
   "metadata": {},
   "outputs": [
    {
     "data": {
      "text/plain": [
       "['/Users/jeremy_lehner/Documents/GitHub/metis_project2/data/raw/scraped_data_2019-07-16.csv',\n",
       " '/Users/jeremy_lehner/Documents/GitHub/metis_project2/data/raw/scraped_data_2019-07-17.csv']"
      ]
     },
     "execution_count": 107,
     "metadata": {},
     "output_type": "execute_result"
    }
   ],
   "source": [
    "datadir = '/Users/jeremy_lehner/Documents/GitHub/metis_project2/data/raw/'\n",
    "datafiles = next(os.walk(datadir))[2]\n",
    "\n",
    "datafiles = [datadir + file for file in datafiles]"
   ]
  },
  {
   "cell_type": "code",
   "execution_count": 112,
   "metadata": {},
   "outputs": [
    {
     "data": {
      "text/html": [
       "<div>\n",
       "<style scoped>\n",
       "    .dataframe tbody tr th:only-of-type {\n",
       "        vertical-align: middle;\n",
       "    }\n",
       "\n",
       "    .dataframe tbody tr th {\n",
       "        vertical-align: top;\n",
       "    }\n",
       "\n",
       "    .dataframe thead th {\n",
       "        text-align: right;\n",
       "    }\n",
       "</style>\n",
       "<table border=\"1\" class=\"dataframe\">\n",
       "  <thead>\n",
       "    <tr style=\"text-align: right;\">\n",
       "      <th></th>\n",
       "      <th>champion</th>\n",
       "      <th>release_date</th>\n",
       "      <th>last_patch</th>\n",
       "      <th>num_skins</th>\n",
       "      <th>win_rate</th>\n",
       "      <th>ban_rate</th>\n",
       "      <th>pick_rate</th>\n",
       "      <th>date_data</th>\n",
       "    </tr>\n",
       "  </thead>\n",
       "  <tbody>\n",
       "    <tr>\n",
       "      <th>0</th>\n",
       "      <td>Aatrox</td>\n",
       "      <td>2013-06-13</td>\n",
       "      <td>9.12</td>\n",
       "      <td>5</td>\n",
       "      <td>47.71%</td>\n",
       "      <td>23.42%</td>\n",
       "      <td>11.20%</td>\n",
       "      <td>2019-07-16</td>\n",
       "    </tr>\n",
       "    <tr>\n",
       "      <th>1</th>\n",
       "      <td>Ahri</td>\n",
       "      <td>2011-12-14</td>\n",
       "      <td>8.20</td>\n",
       "      <td>10</td>\n",
       "      <td>52.00%</td>\n",
       "      <td>7.41%</td>\n",
       "      <td>11.13%</td>\n",
       "      <td>2019-07-16</td>\n",
       "    </tr>\n",
       "    <tr>\n",
       "      <th>2</th>\n",
       "      <td>Akali</td>\n",
       "      <td>2010-05-11</td>\n",
       "      <td>9.11</td>\n",
       "      <td>10</td>\n",
       "      <td>43.66%</td>\n",
       "      <td>8.51%</td>\n",
       "      <td>8.22%</td>\n",
       "      <td>2019-07-16</td>\n",
       "    </tr>\n",
       "    <tr>\n",
       "      <th>3</th>\n",
       "      <td>Alistar</td>\n",
       "      <td>2009-02-21</td>\n",
       "      <td>8.21</td>\n",
       "      <td>12</td>\n",
       "      <td>47.77%</td>\n",
       "      <td>1.15%</td>\n",
       "      <td>3.53%</td>\n",
       "      <td>2019-07-16</td>\n",
       "    </tr>\n",
       "    <tr>\n",
       "      <th>4</th>\n",
       "      <td>Amumu</td>\n",
       "      <td>2009-06-26</td>\n",
       "      <td>9.12</td>\n",
       "      <td>10</td>\n",
       "      <td>52.63%</td>\n",
       "      <td>2.67%</td>\n",
       "      <td>6.42%</td>\n",
       "      <td>2019-07-16</td>\n",
       "    </tr>\n",
       "    <tr>\n",
       "      <th>5</th>\n",
       "      <td>Anivia</td>\n",
       "      <td>2009-07-10</td>\n",
       "      <td>8.24</td>\n",
       "      <td>8</td>\n",
       "      <td>50.09%</td>\n",
       "      <td>1.32%</td>\n",
       "      <td>3.34%</td>\n",
       "      <td>2019-07-16</td>\n",
       "    </tr>\n",
       "    <tr>\n",
       "      <th>6</th>\n",
       "      <td>Annie</td>\n",
       "      <td>2009-02-21</td>\n",
       "      <td>8.17</td>\n",
       "      <td>11</td>\n",
       "      <td>50.24%</td>\n",
       "      <td>1.44%</td>\n",
       "      <td>3.36%</td>\n",
       "      <td>2019-07-16</td>\n",
       "    </tr>\n",
       "    <tr>\n",
       "      <th>7</th>\n",
       "      <td>Ashe</td>\n",
       "      <td>2009-02-21</td>\n",
       "      <td>9.12</td>\n",
       "      <td>10</td>\n",
       "      <td>51.36%</td>\n",
       "      <td>1.98%</td>\n",
       "      <td>15.75%</td>\n",
       "      <td>2019-07-16</td>\n",
       "    </tr>\n",
       "    <tr>\n",
       "      <th>8</th>\n",
       "      <td>Aurelion Sol</td>\n",
       "      <td>2016-03-24</td>\n",
       "      <td>9.20</td>\n",
       "      <td>2</td>\n",
       "      <td>50.58%</td>\n",
       "      <td>0.32%</td>\n",
       "      <td>0.88%</td>\n",
       "      <td>2019-07-16</td>\n",
       "    </tr>\n",
       "    <tr>\n",
       "      <th>9</th>\n",
       "      <td>Azir</td>\n",
       "      <td>2014-09-16</td>\n",
       "      <td>9.70</td>\n",
       "      <td>4</td>\n",
       "      <td>46.99%</td>\n",
       "      <td>0.81%</td>\n",
       "      <td>3.85%</td>\n",
       "      <td>2019-07-16</td>\n",
       "    </tr>\n",
       "  </tbody>\n",
       "</table>\n",
       "</div>"
      ],
      "text/plain": [
       "       champion release_date  last_patch  num_skins win_rate ban_rate  \\\n",
       "0        Aatrox   2013-06-13        9.12          5   47.71%   23.42%   \n",
       "1          Ahri   2011-12-14        8.20         10   52.00%    7.41%   \n",
       "2         Akali   2010-05-11        9.11         10   43.66%    8.51%   \n",
       "3       Alistar   2009-02-21        8.21         12   47.77%    1.15%   \n",
       "4         Amumu   2009-06-26        9.12         10   52.63%    2.67%   \n",
       "5        Anivia   2009-07-10        8.24          8   50.09%    1.32%   \n",
       "6         Annie   2009-02-21        8.17         11   50.24%    1.44%   \n",
       "7          Ashe   2009-02-21        9.12         10   51.36%    1.98%   \n",
       "8  Aurelion Sol   2016-03-24        9.20          2   50.58%    0.32%   \n",
       "9          Azir   2014-09-16        9.70          4   46.99%    0.81%   \n",
       "\n",
       "  pick_rate   date_data  \n",
       "0    11.20%  2019-07-16  \n",
       "1    11.13%  2019-07-16  \n",
       "2     8.22%  2019-07-16  \n",
       "3     3.53%  2019-07-16  \n",
       "4     6.42%  2019-07-16  \n",
       "5     3.34%  2019-07-16  \n",
       "6     3.36%  2019-07-16  \n",
       "7    15.75%  2019-07-16  \n",
       "8     0.88%  2019-07-16  \n",
       "9     3.85%  2019-07-16  "
      ]
     },
     "execution_count": 112,
     "metadata": {},
     "output_type": "execute_result"
    }
   ],
   "source": [
    "raw_dfs = []\n",
    "for file in datafiles:\n",
    "    raw_dfs.append(pd.read_csv(file))\n",
    "\n",
    "raw_df = pd.concat(raw_dfs, ignore_index = True)\n",
    "raw_df.head(10)"
   ]
  },
  {
   "cell_type": "markdown",
   "metadata": {},
   "source": [
    "## Clean up the win/ban/pick rate columns\n",
    "---"
   ]
  },
  {
   "cell_type": "markdown",
   "metadata": {},
   "source": [
    "### Win rates"
   ]
  },
  {
   "cell_type": "code",
   "execution_count": 113,
   "metadata": {},
   "outputs": [
    {
     "data": {
      "text/plain": [
       "0    0.4771\n",
       "1    0.5200\n",
       "2    0.4366\n",
       "3    0.4777\n",
       "4    0.5263\n",
       "Name: win_rate, dtype: float64"
      ]
     },
     "execution_count": 113,
     "metadata": {},
     "output_type": "execute_result"
    }
   ],
   "source": [
    "# Remove % symbol\n",
    "win_rates = raw_df['win_rate'].str.replace('%', '')\n",
    "\n",
    "# Convert to floats and convert percent to proportion\n",
    "win_rates = win_rates.astype('float')/100\n",
    "win_rates.head()"
   ]
  },
  {
   "cell_type": "markdown",
   "metadata": {},
   "source": [
    "### Ban rates"
   ]
  },
  {
   "cell_type": "code",
   "execution_count": 114,
   "metadata": {},
   "outputs": [
    {
     "data": {
      "text/plain": [
       "0    0.2342\n",
       "1    0.0741\n",
       "2    0.0851\n",
       "3    0.0115\n",
       "4    0.0267\n",
       "Name: ban_rate, dtype: float64"
      ]
     },
     "execution_count": 114,
     "metadata": {},
     "output_type": "execute_result"
    }
   ],
   "source": [
    "# Remove % symbol\n",
    "ban_rates = raw_df['ban_rate'].str.replace('%', '')\n",
    "\n",
    "# Convert to floats and convert percent to proportion\n",
    "ban_rates = ban_rates.astype('float')/100\n",
    "ban_rates.head()"
   ]
  },
  {
   "cell_type": "markdown",
   "metadata": {},
   "source": [
    "### Pick rates"
   ]
  },
  {
   "cell_type": "code",
   "execution_count": 115,
   "metadata": {},
   "outputs": [
    {
     "data": {
      "text/plain": [
       "0    0.1120\n",
       "1    0.1113\n",
       "2    0.0822\n",
       "3    0.0353\n",
       "4    0.0642\n",
       "Name: pick_rate, dtype: float64"
      ]
     },
     "execution_count": 115,
     "metadata": {},
     "output_type": "execute_result"
    }
   ],
   "source": [
    "# Remove % symbol\n",
    "pick_rates = raw_df['pick_rate'].str.replace('%', '')\n",
    "\n",
    "# Convert to floats and convert percent to proportion\n",
    "pick_rates = pick_rates.astype('float')/100\n",
    "pick_rates.head()"
   ]
  },
  {
   "cell_type": "markdown",
   "metadata": {},
   "source": [
    "## Determine number of patches since last champion change"
   ]
  },
  {
   "cell_type": "code",
   "execution_count": 116,
   "metadata": {},
   "outputs": [],
   "source": [
    "# Get current patch from date_date column (automate later)\n",
    "current_patch = '9.13'\n",
    "\n",
    "# Get oldest patch that a champion was last changed (automate later)\n",
    "oldest_patch  = str(raw_df['last_patch'].astype(float).min())\n",
    "\n",
    "# Construct list of patches from current_patch to oldest_patch\n",
    "patches = '9.13 9.12 9.11 9.10 9.9 9.8 9.7 9.6 9.5 9.4 9.3 9.2 9.1 \\\n",
    "           8.24b 8.24 8.23 8.22 8.21 8.20 8.19 8.18 8.17 8.16 8.15 8.14 \\\n",
    "           8.13 8.12 8.11 8.10 8.9 8.8 8.7 8.6 8.5 8.4 8.3 8.2 8.1 \\\n",
    "           7.24b 7.24 7.23 7.22'.split()"
   ]
  },
  {
   "cell_type": "code",
   "execution_count": 117,
   "metadata": {},
   "outputs": [
    {
     "data": {
      "text/plain": [
       "0     1\n",
       "1    36\n",
       "2     2\n",
       "3    17\n",
       "4     1\n",
       "5    14\n",
       "6    21\n",
       "7     1\n",
       "8    11\n",
       "9     6\n",
       "dtype: int64"
      ]
     },
     "execution_count": 117,
     "metadata": {},
     "output_type": "execute_result"
    }
   ],
   "source": [
    "# Set number of patches since last change to the index of patches for which last_patch matches\n",
    "patches_since_change = pd.Series(patches.index(s) for s in raw_df.last_patch.astype(str))\n",
    "patches_since_change.head(10)"
   ]
  },
  {
   "cell_type": "markdown",
   "metadata": {},
   "source": [
    "## Determine age of each champion in days"
   ]
  },
  {
   "cell_type": "code",
   "execution_count": 118,
   "metadata": {},
   "outputs": [],
   "source": [
    "# Get date when data was scraped\n",
    "scrape_date = raw_df.date_data[0]\n",
    "\n",
    "# Convert to datetime object\n",
    "scrape_date = pd.to_datetime(scrape_date)"
   ]
  },
  {
   "cell_type": "code",
   "execution_count": 119,
   "metadata": {},
   "outputs": [
    {
     "data": {
      "text/plain": [
       "0   2013-06-13\n",
       "1   2011-12-14\n",
       "2   2010-05-11\n",
       "3   2009-02-21\n",
       "4   2009-06-26\n",
       "5   2009-07-10\n",
       "6   2009-02-21\n",
       "7   2009-02-21\n",
       "8   2016-03-24\n",
       "9   2014-09-16\n",
       "Name: release_date, dtype: datetime64[ns]"
      ]
     },
     "execution_count": 119,
     "metadata": {},
     "output_type": "execute_result"
    }
   ],
   "source": [
    "# Convert release_date values to datetime objects\n",
    "release_dates = raw_df['release_date']\n",
    "release_dates = pd.to_datetime(release_dates)\n",
    "release_dates.head(10)"
   ]
  },
  {
   "cell_type": "code",
   "execution_count": 120,
   "metadata": {},
   "outputs": [
    {
     "data": {
      "text/plain": [
       "0    2224\n",
       "1    2771\n",
       "2    3353\n",
       "3    3797\n",
       "4    3672\n",
       "5    3658\n",
       "6    3797\n",
       "7    3797\n",
       "8    1209\n",
       "9    1764\n",
       "Name: release_date, dtype: int64"
      ]
     },
     "execution_count": 120,
     "metadata": {},
     "output_type": "execute_result"
    }
   ],
   "source": [
    "# Calculate the age of each champion in days\n",
    "champion_age = (scrape_date - release_dates).dt.days\n",
    "champion_age.head(10)"
   ]
  },
  {
   "cell_type": "markdown",
   "metadata": {},
   "source": [
    "## Construct clean data set to use for EDA and regression modeling"
   ]
  },
  {
   "cell_type": "code",
   "execution_count": 121,
   "metadata": {},
   "outputs": [
    {
     "data": {
      "text/html": [
       "<div>\n",
       "<style scoped>\n",
       "    .dataframe tbody tr th:only-of-type {\n",
       "        vertical-align: middle;\n",
       "    }\n",
       "\n",
       "    .dataframe tbody tr th {\n",
       "        vertical-align: top;\n",
       "    }\n",
       "\n",
       "    .dataframe thead th {\n",
       "        text-align: right;\n",
       "    }\n",
       "</style>\n",
       "<table border=\"1\" class=\"dataframe\">\n",
       "  <thead>\n",
       "    <tr style=\"text-align: right;\">\n",
       "      <th></th>\n",
       "      <th>champion</th>\n",
       "      <th>days_old</th>\n",
       "      <th>num_last_patch</th>\n",
       "      <th>num_skins</th>\n",
       "      <th>win_rate</th>\n",
       "      <th>ban_rate</th>\n",
       "      <th>pick_rate</th>\n",
       "    </tr>\n",
       "  </thead>\n",
       "  <tbody>\n",
       "    <tr>\n",
       "      <th>0</th>\n",
       "      <td>Aatrox</td>\n",
       "      <td>2224</td>\n",
       "      <td>1</td>\n",
       "      <td>5</td>\n",
       "      <td>0.4771</td>\n",
       "      <td>0.2342</td>\n",
       "      <td>0.1120</td>\n",
       "    </tr>\n",
       "    <tr>\n",
       "      <th>1</th>\n",
       "      <td>Ahri</td>\n",
       "      <td>2771</td>\n",
       "      <td>36</td>\n",
       "      <td>10</td>\n",
       "      <td>0.5200</td>\n",
       "      <td>0.0741</td>\n",
       "      <td>0.1113</td>\n",
       "    </tr>\n",
       "    <tr>\n",
       "      <th>2</th>\n",
       "      <td>Akali</td>\n",
       "      <td>3353</td>\n",
       "      <td>2</td>\n",
       "      <td>10</td>\n",
       "      <td>0.4366</td>\n",
       "      <td>0.0851</td>\n",
       "      <td>0.0822</td>\n",
       "    </tr>\n",
       "    <tr>\n",
       "      <th>3</th>\n",
       "      <td>Alistar</td>\n",
       "      <td>3797</td>\n",
       "      <td>17</td>\n",
       "      <td>12</td>\n",
       "      <td>0.4777</td>\n",
       "      <td>0.0115</td>\n",
       "      <td>0.0353</td>\n",
       "    </tr>\n",
       "    <tr>\n",
       "      <th>4</th>\n",
       "      <td>Amumu</td>\n",
       "      <td>3672</td>\n",
       "      <td>1</td>\n",
       "      <td>10</td>\n",
       "      <td>0.5263</td>\n",
       "      <td>0.0267</td>\n",
       "      <td>0.0642</td>\n",
       "    </tr>\n",
       "    <tr>\n",
       "      <th>5</th>\n",
       "      <td>Anivia</td>\n",
       "      <td>3658</td>\n",
       "      <td>14</td>\n",
       "      <td>8</td>\n",
       "      <td>0.5009</td>\n",
       "      <td>0.0132</td>\n",
       "      <td>0.0334</td>\n",
       "    </tr>\n",
       "    <tr>\n",
       "      <th>6</th>\n",
       "      <td>Annie</td>\n",
       "      <td>3797</td>\n",
       "      <td>21</td>\n",
       "      <td>11</td>\n",
       "      <td>0.5024</td>\n",
       "      <td>0.0144</td>\n",
       "      <td>0.0336</td>\n",
       "    </tr>\n",
       "    <tr>\n",
       "      <th>7</th>\n",
       "      <td>Ashe</td>\n",
       "      <td>3797</td>\n",
       "      <td>1</td>\n",
       "      <td>10</td>\n",
       "      <td>0.5136</td>\n",
       "      <td>0.0198</td>\n",
       "      <td>0.1575</td>\n",
       "    </tr>\n",
       "    <tr>\n",
       "      <th>8</th>\n",
       "      <td>Aurelion Sol</td>\n",
       "      <td>1209</td>\n",
       "      <td>11</td>\n",
       "      <td>2</td>\n",
       "      <td>0.5058</td>\n",
       "      <td>0.0032</td>\n",
       "      <td>0.0088</td>\n",
       "    </tr>\n",
       "    <tr>\n",
       "      <th>9</th>\n",
       "      <td>Azir</td>\n",
       "      <td>1764</td>\n",
       "      <td>6</td>\n",
       "      <td>4</td>\n",
       "      <td>0.4699</td>\n",
       "      <td>0.0081</td>\n",
       "      <td>0.0385</td>\n",
       "    </tr>\n",
       "    <tr>\n",
       "      <th>10</th>\n",
       "      <td>Bard</td>\n",
       "      <td>1587</td>\n",
       "      <td>21</td>\n",
       "      <td>3</td>\n",
       "      <td>0.5038</td>\n",
       "      <td>0.0042</td>\n",
       "      <td>0.0372</td>\n",
       "    </tr>\n",
       "    <tr>\n",
       "      <th>11</th>\n",
       "      <td>Blitzcrank</td>\n",
       "      <td>3604</td>\n",
       "      <td>4</td>\n",
       "      <td>11</td>\n",
       "      <td>0.5156</td>\n",
       "      <td>0.1363</td>\n",
       "      <td>0.0759</td>\n",
       "    </tr>\n",
       "    <tr>\n",
       "      <th>12</th>\n",
       "      <td>Brand</td>\n",
       "      <td>3017</td>\n",
       "      <td>12</td>\n",
       "      <td>7</td>\n",
       "      <td>0.5213</td>\n",
       "      <td>0.0989</td>\n",
       "      <td>0.0856</td>\n",
       "    </tr>\n",
       "    <tr>\n",
       "      <th>13</th>\n",
       "      <td>Braum</td>\n",
       "      <td>1891</td>\n",
       "      <td>20</td>\n",
       "      <td>5</td>\n",
       "      <td>0.4704</td>\n",
       "      <td>0.0101</td>\n",
       "      <td>0.0316</td>\n",
       "    </tr>\n",
       "    <tr>\n",
       "      <th>14</th>\n",
       "      <td>Caitlyn</td>\n",
       "      <td>3115</td>\n",
       "      <td>1</td>\n",
       "      <td>11</td>\n",
       "      <td>0.5012</td>\n",
       "      <td>0.1225</td>\n",
       "      <td>0.2262</td>\n",
       "    </tr>\n",
       "    <tr>\n",
       "      <th>15</th>\n",
       "      <td>Camille</td>\n",
       "      <td>951</td>\n",
       "      <td>5</td>\n",
       "      <td>3</td>\n",
       "      <td>0.4775</td>\n",
       "      <td>0.0097</td>\n",
       "      <td>0.0381</td>\n",
       "    </tr>\n",
       "    <tr>\n",
       "      <th>16</th>\n",
       "      <td>Cassiopeia</td>\n",
       "      <td>3136</td>\n",
       "      <td>5</td>\n",
       "      <td>5</td>\n",
       "      <td>0.4770</td>\n",
       "      <td>0.0032</td>\n",
       "      <td>0.0144</td>\n",
       "    </tr>\n",
       "    <tr>\n",
       "      <th>17</th>\n",
       "      <td>Cho'Gath</td>\n",
       "      <td>3672</td>\n",
       "      <td>6</td>\n",
       "      <td>7</td>\n",
       "      <td>0.4885</td>\n",
       "      <td>0.0100</td>\n",
       "      <td>0.0475</td>\n",
       "    </tr>\n",
       "    <tr>\n",
       "      <th>18</th>\n",
       "      <td>Corki</td>\n",
       "      <td>3587</td>\n",
       "      <td>0</td>\n",
       "      <td>9</td>\n",
       "      <td>0.4922</td>\n",
       "      <td>0.0047</td>\n",
       "      <td>0.0395</td>\n",
       "    </tr>\n",
       "    <tr>\n",
       "      <th>19</th>\n",
       "      <td>Darius</td>\n",
       "      <td>2610</td>\n",
       "      <td>4</td>\n",
       "      <td>7</td>\n",
       "      <td>0.5093</td>\n",
       "      <td>0.3242</td>\n",
       "      <td>0.1232</td>\n",
       "    </tr>\n",
       "  </tbody>\n",
       "</table>\n",
       "</div>"
      ],
      "text/plain": [
       "        champion  days_old  num_last_patch  num_skins  win_rate  ban_rate  \\\n",
       "0         Aatrox      2224               1          5    0.4771    0.2342   \n",
       "1           Ahri      2771              36         10    0.5200    0.0741   \n",
       "2          Akali      3353               2         10    0.4366    0.0851   \n",
       "3        Alistar      3797              17         12    0.4777    0.0115   \n",
       "4          Amumu      3672               1         10    0.5263    0.0267   \n",
       "5         Anivia      3658              14          8    0.5009    0.0132   \n",
       "6          Annie      3797              21         11    0.5024    0.0144   \n",
       "7           Ashe      3797               1         10    0.5136    0.0198   \n",
       "8   Aurelion Sol      1209              11          2    0.5058    0.0032   \n",
       "9           Azir      1764               6          4    0.4699    0.0081   \n",
       "10          Bard      1587              21          3    0.5038    0.0042   \n",
       "11    Blitzcrank      3604               4         11    0.5156    0.1363   \n",
       "12         Brand      3017              12          7    0.5213    0.0989   \n",
       "13         Braum      1891              20          5    0.4704    0.0101   \n",
       "14       Caitlyn      3115               1         11    0.5012    0.1225   \n",
       "15       Camille       951               5          3    0.4775    0.0097   \n",
       "16    Cassiopeia      3136               5          5    0.4770    0.0032   \n",
       "17      Cho'Gath      3672               6          7    0.4885    0.0100   \n",
       "18         Corki      3587               0          9    0.4922    0.0047   \n",
       "19        Darius      2610               4          7    0.5093    0.3242   \n",
       "\n",
       "    pick_rate  \n",
       "0      0.1120  \n",
       "1      0.1113  \n",
       "2      0.0822  \n",
       "3      0.0353  \n",
       "4      0.0642  \n",
       "5      0.0334  \n",
       "6      0.0336  \n",
       "7      0.1575  \n",
       "8      0.0088  \n",
       "9      0.0385  \n",
       "10     0.0372  \n",
       "11     0.0759  \n",
       "12     0.0856  \n",
       "13     0.0316  \n",
       "14     0.2262  \n",
       "15     0.0381  \n",
       "16     0.0144  \n",
       "17     0.0475  \n",
       "18     0.0395  \n",
       "19     0.1232  "
      ]
     },
     "execution_count": 121,
     "metadata": {},
     "output_type": "execute_result"
    }
   ],
   "source": [
    "clean_cols = [raw_df['champion'], champion_age, patches_since_change,\n",
    "              raw_df['num_skins'], win_rates, ban_rates, pick_rates]\n",
    "\n",
    "colnames = 'champion days_old num_last_patch num_skins win_rate ban_rate pick_rate'.split()\n",
    "\n",
    "clean_df = pd.concat(clean_cols, axis = 1)\n",
    "clean_df.columns = colnames\n",
    "\n",
    "clean_df.head(20)"
   ]
  },
  {
   "cell_type": "markdown",
   "metadata": {},
   "source": [
    "## Write clean data frame to csv file"
   ]
  },
  {
   "cell_type": "code",
   "execution_count": 122,
   "metadata": {},
   "outputs": [],
   "source": [
    "filedir = '/Users/jeremy_lehner/Documents/GitHub/metis_project2/data/processed/clean_data.csv'\n",
    "clean_df.to_csv (filedir, index = None, header = True)"
   ]
  },
  {
   "cell_type": "code",
   "execution_count": null,
   "metadata": {},
   "outputs": [],
   "source": []
  }
 ],
 "metadata": {
  "kernelspec": {
   "display_name": "Python 3",
   "language": "python",
   "name": "python3"
  },
  "language_info": {
   "codemirror_mode": {
    "name": "ipython",
    "version": 3
   },
   "file_extension": ".py",
   "mimetype": "text/x-python",
   "name": "python",
   "nbconvert_exporter": "python",
   "pygments_lexer": "ipython3",
   "version": "3.7.3"
  }
 },
 "nbformat": 4,
 "nbformat_minor": 2
}
